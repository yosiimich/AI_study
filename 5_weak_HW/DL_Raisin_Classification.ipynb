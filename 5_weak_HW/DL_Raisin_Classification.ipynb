{
 "cells": [
  {
   "cell_type": "code",
   "execution_count": 2,
   "id": "2054f9f8",
   "metadata": {},
   "outputs": [
    {
     "data": {
      "text/html": [
       "<div>\n",
       "<style scoped>\n",
       "    .dataframe tbody tr th:only-of-type {\n",
       "        vertical-align: middle;\n",
       "    }\n",
       "\n",
       "    .dataframe tbody tr th {\n",
       "        vertical-align: top;\n",
       "    }\n",
       "\n",
       "    .dataframe thead th {\n",
       "        text-align: right;\n",
       "    }\n",
       "</style>\n",
       "<table border=\"1\" class=\"dataframe\">\n",
       "  <thead>\n",
       "    <tr style=\"text-align: right;\">\n",
       "      <th></th>\n",
       "      <th>Area</th>\n",
       "      <th>MajorAxisLength</th>\n",
       "      <th>MinorAxisLength</th>\n",
       "      <th>Eccentricity</th>\n",
       "      <th>ConvexArea</th>\n",
       "      <th>Extent</th>\n",
       "      <th>Perimeter</th>\n",
       "      <th>Class</th>\n",
       "    </tr>\n",
       "  </thead>\n",
       "  <tbody>\n",
       "    <tr>\n",
       "      <th>0</th>\n",
       "      <td>87524</td>\n",
       "      <td>442.246011</td>\n",
       "      <td>253.291155</td>\n",
       "      <td>0.819738</td>\n",
       "      <td>90546</td>\n",
       "      <td>0.758651</td>\n",
       "      <td>1184.040</td>\n",
       "      <td>Kecimen</td>\n",
       "    </tr>\n",
       "    <tr>\n",
       "      <th>1</th>\n",
       "      <td>75166</td>\n",
       "      <td>406.690687</td>\n",
       "      <td>243.032436</td>\n",
       "      <td>0.801805</td>\n",
       "      <td>78789</td>\n",
       "      <td>0.684130</td>\n",
       "      <td>1121.786</td>\n",
       "      <td>Kecimen</td>\n",
       "    </tr>\n",
       "    <tr>\n",
       "      <th>2</th>\n",
       "      <td>90856</td>\n",
       "      <td>442.267048</td>\n",
       "      <td>266.328318</td>\n",
       "      <td>0.798354</td>\n",
       "      <td>93717</td>\n",
       "      <td>0.637613</td>\n",
       "      <td>1208.575</td>\n",
       "      <td>Kecimen</td>\n",
       "    </tr>\n",
       "    <tr>\n",
       "      <th>3</th>\n",
       "      <td>45928</td>\n",
       "      <td>286.540559</td>\n",
       "      <td>208.760042</td>\n",
       "      <td>0.684989</td>\n",
       "      <td>47336</td>\n",
       "      <td>0.699599</td>\n",
       "      <td>844.162</td>\n",
       "      <td>Kecimen</td>\n",
       "    </tr>\n",
       "    <tr>\n",
       "      <th>4</th>\n",
       "      <td>79408</td>\n",
       "      <td>352.190770</td>\n",
       "      <td>290.827533</td>\n",
       "      <td>0.564011</td>\n",
       "      <td>81463</td>\n",
       "      <td>0.792772</td>\n",
       "      <td>1073.251</td>\n",
       "      <td>Kecimen</td>\n",
       "    </tr>\n",
       "    <tr>\n",
       "      <th>...</th>\n",
       "      <td>...</td>\n",
       "      <td>...</td>\n",
       "      <td>...</td>\n",
       "      <td>...</td>\n",
       "      <td>...</td>\n",
       "      <td>...</td>\n",
       "      <td>...</td>\n",
       "      <td>...</td>\n",
       "    </tr>\n",
       "    <tr>\n",
       "      <th>895</th>\n",
       "      <td>83248</td>\n",
       "      <td>430.077308</td>\n",
       "      <td>247.838695</td>\n",
       "      <td>0.817263</td>\n",
       "      <td>85839</td>\n",
       "      <td>0.668793</td>\n",
       "      <td>1129.072</td>\n",
       "      <td>Besni</td>\n",
       "    </tr>\n",
       "    <tr>\n",
       "      <th>896</th>\n",
       "      <td>87350</td>\n",
       "      <td>440.735698</td>\n",
       "      <td>259.293149</td>\n",
       "      <td>0.808629</td>\n",
       "      <td>90899</td>\n",
       "      <td>0.636476</td>\n",
       "      <td>1214.252</td>\n",
       "      <td>Besni</td>\n",
       "    </tr>\n",
       "    <tr>\n",
       "      <th>897</th>\n",
       "      <td>99657</td>\n",
       "      <td>431.706981</td>\n",
       "      <td>298.837323</td>\n",
       "      <td>0.721684</td>\n",
       "      <td>106264</td>\n",
       "      <td>0.741099</td>\n",
       "      <td>1292.828</td>\n",
       "      <td>Besni</td>\n",
       "    </tr>\n",
       "    <tr>\n",
       "      <th>898</th>\n",
       "      <td>93523</td>\n",
       "      <td>476.344094</td>\n",
       "      <td>254.176054</td>\n",
       "      <td>0.845739</td>\n",
       "      <td>97653</td>\n",
       "      <td>0.658798</td>\n",
       "      <td>1258.548</td>\n",
       "      <td>Besni</td>\n",
       "    </tr>\n",
       "    <tr>\n",
       "      <th>899</th>\n",
       "      <td>85609</td>\n",
       "      <td>512.081774</td>\n",
       "      <td>215.271976</td>\n",
       "      <td>0.907345</td>\n",
       "      <td>89197</td>\n",
       "      <td>0.632020</td>\n",
       "      <td>1272.862</td>\n",
       "      <td>Besni</td>\n",
       "    </tr>\n",
       "  </tbody>\n",
       "</table>\n",
       "<p>900 rows × 8 columns</p>\n",
       "</div>"
      ],
      "text/plain": [
       "      Area  MajorAxisLength  MinorAxisLength  Eccentricity  ConvexArea  \\\n",
       "0    87524       442.246011       253.291155      0.819738       90546   \n",
       "1    75166       406.690687       243.032436      0.801805       78789   \n",
       "2    90856       442.267048       266.328318      0.798354       93717   \n",
       "3    45928       286.540559       208.760042      0.684989       47336   \n",
       "4    79408       352.190770       290.827533      0.564011       81463   \n",
       "..     ...              ...              ...           ...         ...   \n",
       "895  83248       430.077308       247.838695      0.817263       85839   \n",
       "896  87350       440.735698       259.293149      0.808629       90899   \n",
       "897  99657       431.706981       298.837323      0.721684      106264   \n",
       "898  93523       476.344094       254.176054      0.845739       97653   \n",
       "899  85609       512.081774       215.271976      0.907345       89197   \n",
       "\n",
       "       Extent  Perimeter    Class  \n",
       "0    0.758651   1184.040  Kecimen  \n",
       "1    0.684130   1121.786  Kecimen  \n",
       "2    0.637613   1208.575  Kecimen  \n",
       "3    0.699599    844.162  Kecimen  \n",
       "4    0.792772   1073.251  Kecimen  \n",
       "..        ...        ...      ...  \n",
       "895  0.668793   1129.072    Besni  \n",
       "896  0.636476   1214.252    Besni  \n",
       "897  0.741099   1292.828    Besni  \n",
       "898  0.658798   1258.548    Besni  \n",
       "899  0.632020   1272.862    Besni  \n",
       "\n",
       "[900 rows x 8 columns]"
      ]
     },
     "execution_count": 2,
     "metadata": {},
     "output_type": "execute_result"
    }
   ],
   "source": [
    "import numpy as np\n",
    "import pandas as pd\n",
    "import seaborn as sns\n",
    "from sklearn.model_selection import train_test_split\n",
    "import tensorflow as tf\n",
    "from tensorflow import keras\n",
    "\n",
    "df = pd.read_excel(\"./Raisin_Dataset/Raisin_Dataset.xlsx\", index_col=False)\n",
    "df"
   ]
  },
  {
   "cell_type": "code",
   "execution_count": 3,
   "id": "6f00721a",
   "metadata": {},
   "outputs": [
    {
     "data": {
      "text/plain": [
       "Index(['Area', 'MajorAxisLength', 'MinorAxisLength', 'Eccentricity',\n",
       "       'ConvexArea', 'Extent', 'Perimeter', 'Class'],\n",
       "      dtype='object')"
      ]
     },
     "execution_count": 3,
     "metadata": {},
     "output_type": "execute_result"
    }
   ],
   "source": [
    "df.columns"
   ]
  },
  {
   "cell_type": "code",
   "execution_count": 4,
   "id": "1b2b05fd",
   "metadata": {},
   "outputs": [
    {
     "data": {
      "text/plain": [
       "Class\n",
       "Kecimen    450\n",
       "Besni      450\n",
       "Name: count, dtype: int64"
      ]
     },
     "execution_count": 4,
     "metadata": {},
     "output_type": "execute_result"
    }
   ],
   "source": [
    "df['Class'].value_counts()"
   ]
  },
  {
   "cell_type": "code",
   "execution_count": 5,
   "id": "be79be71",
   "metadata": {},
   "outputs": [
    {
     "data": {
      "text/plain": [
       "Area               0\n",
       "MajorAxisLength    0\n",
       "MinorAxisLength    0\n",
       "Eccentricity       0\n",
       "ConvexArea         0\n",
       "Extent             0\n",
       "Perimeter          0\n",
       "Class              0\n",
       "dtype: int64"
      ]
     },
     "execution_count": 5,
     "metadata": {},
     "output_type": "execute_result"
    }
   ],
   "source": [
    "df.isnull().sum()"
   ]
  },
  {
   "cell_type": "code",
   "execution_count": 6,
   "id": "7bb5b6e1",
   "metadata": {},
   "outputs": [
    {
     "data": {
      "text/plain": [
       "Area               0\n",
       "MajorAxisLength    0\n",
       "MinorAxisLength    0\n",
       "Eccentricity       0\n",
       "ConvexArea         0\n",
       "Extent             0\n",
       "Perimeter          0\n",
       "Class              0\n",
       "dtype: int64"
      ]
     },
     "execution_count": 6,
     "metadata": {},
     "output_type": "execute_result"
    }
   ],
   "source": [
    "df = df.dropna()\n",
    "df.isnull().sum()"
   ]
  },
  {
   "cell_type": "code",
   "execution_count": 7,
   "id": "906831a8",
   "metadata": {},
   "outputs": [
    {
     "data": {
      "text/html": [
       "<div>\n",
       "<style scoped>\n",
       "    .dataframe tbody tr th:only-of-type {\n",
       "        vertical-align: middle;\n",
       "    }\n",
       "\n",
       "    .dataframe tbody tr th {\n",
       "        vertical-align: top;\n",
       "    }\n",
       "\n",
       "    .dataframe thead th {\n",
       "        text-align: right;\n",
       "    }\n",
       "</style>\n",
       "<table border=\"1\" class=\"dataframe\">\n",
       "  <thead>\n",
       "    <tr style=\"text-align: right;\">\n",
       "      <th></th>\n",
       "      <th>Area</th>\n",
       "      <th>MajorAxisLength</th>\n",
       "      <th>MinorAxisLength</th>\n",
       "      <th>Eccentricity</th>\n",
       "      <th>ConvexArea</th>\n",
       "      <th>Extent</th>\n",
       "      <th>Perimeter</th>\n",
       "    </tr>\n",
       "  </thead>\n",
       "  <tbody>\n",
       "    <tr>\n",
       "      <th>0</th>\n",
       "      <td>87524</td>\n",
       "      <td>442.246011</td>\n",
       "      <td>253.291155</td>\n",
       "      <td>0.819738</td>\n",
       "      <td>90546</td>\n",
       "      <td>0.758651</td>\n",
       "      <td>1184.040</td>\n",
       "    </tr>\n",
       "    <tr>\n",
       "      <th>1</th>\n",
       "      <td>75166</td>\n",
       "      <td>406.690687</td>\n",
       "      <td>243.032436</td>\n",
       "      <td>0.801805</td>\n",
       "      <td>78789</td>\n",
       "      <td>0.684130</td>\n",
       "      <td>1121.786</td>\n",
       "    </tr>\n",
       "    <tr>\n",
       "      <th>2</th>\n",
       "      <td>90856</td>\n",
       "      <td>442.267048</td>\n",
       "      <td>266.328318</td>\n",
       "      <td>0.798354</td>\n",
       "      <td>93717</td>\n",
       "      <td>0.637613</td>\n",
       "      <td>1208.575</td>\n",
       "    </tr>\n",
       "    <tr>\n",
       "      <th>3</th>\n",
       "      <td>45928</td>\n",
       "      <td>286.540559</td>\n",
       "      <td>208.760042</td>\n",
       "      <td>0.684989</td>\n",
       "      <td>47336</td>\n",
       "      <td>0.699599</td>\n",
       "      <td>844.162</td>\n",
       "    </tr>\n",
       "    <tr>\n",
       "      <th>4</th>\n",
       "      <td>79408</td>\n",
       "      <td>352.190770</td>\n",
       "      <td>290.827533</td>\n",
       "      <td>0.564011</td>\n",
       "      <td>81463</td>\n",
       "      <td>0.792772</td>\n",
       "      <td>1073.251</td>\n",
       "    </tr>\n",
       "    <tr>\n",
       "      <th>...</th>\n",
       "      <td>...</td>\n",
       "      <td>...</td>\n",
       "      <td>...</td>\n",
       "      <td>...</td>\n",
       "      <td>...</td>\n",
       "      <td>...</td>\n",
       "      <td>...</td>\n",
       "    </tr>\n",
       "    <tr>\n",
       "      <th>895</th>\n",
       "      <td>83248</td>\n",
       "      <td>430.077308</td>\n",
       "      <td>247.838695</td>\n",
       "      <td>0.817263</td>\n",
       "      <td>85839</td>\n",
       "      <td>0.668793</td>\n",
       "      <td>1129.072</td>\n",
       "    </tr>\n",
       "    <tr>\n",
       "      <th>896</th>\n",
       "      <td>87350</td>\n",
       "      <td>440.735698</td>\n",
       "      <td>259.293149</td>\n",
       "      <td>0.808629</td>\n",
       "      <td>90899</td>\n",
       "      <td>0.636476</td>\n",
       "      <td>1214.252</td>\n",
       "    </tr>\n",
       "    <tr>\n",
       "      <th>897</th>\n",
       "      <td>99657</td>\n",
       "      <td>431.706981</td>\n",
       "      <td>298.837323</td>\n",
       "      <td>0.721684</td>\n",
       "      <td>106264</td>\n",
       "      <td>0.741099</td>\n",
       "      <td>1292.828</td>\n",
       "    </tr>\n",
       "    <tr>\n",
       "      <th>898</th>\n",
       "      <td>93523</td>\n",
       "      <td>476.344094</td>\n",
       "      <td>254.176054</td>\n",
       "      <td>0.845739</td>\n",
       "      <td>97653</td>\n",
       "      <td>0.658798</td>\n",
       "      <td>1258.548</td>\n",
       "    </tr>\n",
       "    <tr>\n",
       "      <th>899</th>\n",
       "      <td>85609</td>\n",
       "      <td>512.081774</td>\n",
       "      <td>215.271976</td>\n",
       "      <td>0.907345</td>\n",
       "      <td>89197</td>\n",
       "      <td>0.632020</td>\n",
       "      <td>1272.862</td>\n",
       "    </tr>\n",
       "  </tbody>\n",
       "</table>\n",
       "<p>900 rows × 7 columns</p>\n",
       "</div>"
      ],
      "text/plain": [
       "      Area  MajorAxisLength  MinorAxisLength  Eccentricity  ConvexArea  \\\n",
       "0    87524       442.246011       253.291155      0.819738       90546   \n",
       "1    75166       406.690687       243.032436      0.801805       78789   \n",
       "2    90856       442.267048       266.328318      0.798354       93717   \n",
       "3    45928       286.540559       208.760042      0.684989       47336   \n",
       "4    79408       352.190770       290.827533      0.564011       81463   \n",
       "..     ...              ...              ...           ...         ...   \n",
       "895  83248       430.077308       247.838695      0.817263       85839   \n",
       "896  87350       440.735698       259.293149      0.808629       90899   \n",
       "897  99657       431.706981       298.837323      0.721684      106264   \n",
       "898  93523       476.344094       254.176054      0.845739       97653   \n",
       "899  85609       512.081774       215.271976      0.907345       89197   \n",
       "\n",
       "       Extent  Perimeter  \n",
       "0    0.758651   1184.040  \n",
       "1    0.684130   1121.786  \n",
       "2    0.637613   1208.575  \n",
       "3    0.699599    844.162  \n",
       "4    0.792772   1073.251  \n",
       "..        ...        ...  \n",
       "895  0.668793   1129.072  \n",
       "896  0.636476   1214.252  \n",
       "897  0.741099   1292.828  \n",
       "898  0.658798   1258.548  \n",
       "899  0.632020   1272.862  \n",
       "\n",
       "[900 rows x 7 columns]"
      ]
     },
     "execution_count": 7,
     "metadata": {},
     "output_type": "execute_result"
    }
   ],
   "source": [
    "X = df.drop('Class',axis=1)\n",
    "X"
   ]
  },
  {
   "cell_type": "code",
   "execution_count": 8,
   "id": "c5dd1064",
   "metadata": {},
   "outputs": [
    {
     "data": {
      "text/plain": [
       "Class\n",
       "Kecimen    450\n",
       "Besni      450\n",
       "Name: count, dtype: int64"
      ]
     },
     "execution_count": 8,
     "metadata": {},
     "output_type": "execute_result"
    }
   ],
   "source": [
    "y = df['Class']\n",
    "y.value_counts()"
   ]
  },
  {
   "cell_type": "markdown",
   "id": "cb702ccb",
   "metadata": {},
   "source": [
    "## 원-핫 인코딩"
   ]
  },
  {
   "cell_type": "code",
   "execution_count": 9,
   "id": "8858cbe6",
   "metadata": {},
   "outputs": [],
   "source": [
    "Y = pd.get_dummies(y)"
   ]
  },
  {
   "cell_type": "markdown",
   "id": "57780ec0",
   "metadata": {},
   "source": [
    "## 딥러닝 전 numpy 전처리"
   ]
  },
  {
   "cell_type": "code",
   "execution_count": 10,
   "id": "90c6a6dd",
   "metadata": {},
   "outputs": [],
   "source": [
    "X = X.values\n",
    "Y = Y.values"
   ]
  },
  {
   "cell_type": "markdown",
   "id": "37fd5bfb",
   "metadata": {},
   "source": [
    "## 딥러닝 시작 with sigmoid"
   ]
  },
  {
   "cell_type": "code",
   "execution_count": 11,
   "id": "3416ce83",
   "metadata": {},
   "outputs": [],
   "source": [
    "from sklearn.model_selection import train_test_split\n",
    "X_train,X_test, y_train,y_test = train_test_split(X,Y,test_size=0.2,random_state=0) "
   ]
  },
  {
   "cell_type": "code",
   "execution_count": 34,
   "id": "31188b32",
   "metadata": {},
   "outputs": [
    {
     "name": "stderr",
     "output_type": "stream",
     "text": [
      "WARNING:absl:`lr` is deprecated in Keras optimizer, please use `learning_rate` or use the legacy optimizer, e.g.,tf.keras.optimizers.legacy.Adam.\n"
     ]
    },
    {
     "name": "stdout",
     "output_type": "stream",
     "text": [
      "Model: \"sequential_6\"\n",
      "_________________________________________________________________\n",
      " Layer (type)                Output Shape              Param #   \n",
      "=================================================================\n",
      " dense_30 (Dense)            (None, 10)                80        \n",
      "                                                                 \n",
      " dense_31 (Dense)            (None, 10)                110       \n",
      "                                                                 \n",
      " dense_32 (Dense)            (None, 10)                110       \n",
      "                                                                 \n",
      " dense_33 (Dense)            (None, 10)                110       \n",
      "                                                                 \n",
      " dense_34 (Dense)            (None, 2)                 22        \n",
      "                                                                 \n",
      "=================================================================\n",
      "Total params: 432 (1.69 KB)\n",
      "Trainable params: 432 (1.69 KB)\n",
      "Non-trainable params: 0 (0.00 Byte)\n",
      "_________________________________________________________________\n"
     ]
    }
   ],
   "source": [
    "# Defining the model \n",
    "\n",
    "from keras.models import Sequential\n",
    "from keras.layers import Dense\n",
    "from keras.optimizers import SGD,Adam\n",
    "\n",
    "\n",
    "model = Sequential()\n",
    "\n",
    "model.add(Dense(10,input_shape=(7,),activation='relu'))\n",
    "model.add(Dense(10,activation='relu'))\n",
    "model.add(Dense(10,activation='relu'))\n",
    "model.add(Dense(10,activation='relu'))\n",
    "model.add(Dense(2,activation='sigmoid'))\n",
    "\n",
    "model.compile(Adam(lr=0.04),'binary_crossentropy',metrics=['accuracy'])\n",
    "\n",
    "model.summary()"
   ]
  },
  {
   "cell_type": "code",
   "execution_count": 35,
   "id": "6d1ca0f7",
   "metadata": {},
   "outputs": [
    {
     "name": "stdout",
     "output_type": "stream",
     "text": [
      "Epoch 1/40\n",
      "23/23 [==============================] - 1s 11ms/step - loss: 565.7031 - accuracy: 0.4986 - val_loss: 192.6896 - val_accuracy: 0.4611\n",
      "Epoch 2/40\n",
      "23/23 [==============================] - 0s 3ms/step - loss: 84.3297 - accuracy: 0.5042 - val_loss: 53.3702 - val_accuracy: 0.4611\n",
      "Epoch 3/40\n",
      "23/23 [==============================] - 0s 3ms/step - loss: 24.8602 - accuracy: 0.4639 - val_loss: 27.7554 - val_accuracy: 0.5167\n",
      "Epoch 4/40\n",
      "23/23 [==============================] - 0s 3ms/step - loss: 17.5069 - accuracy: 0.4611 - val_loss: 35.5910 - val_accuracy: 0.4611\n",
      "Epoch 5/40\n",
      "23/23 [==============================] - 0s 3ms/step - loss: 25.3825 - accuracy: 0.4847 - val_loss: 51.1890 - val_accuracy: 0.5333\n",
      "Epoch 6/40\n",
      "23/23 [==============================] - 0s 3ms/step - loss: 29.1066 - accuracy: 0.4764 - val_loss: 51.7128 - val_accuracy: 0.4500\n",
      "Epoch 7/40\n",
      "23/23 [==============================] - 0s 3ms/step - loss: 27.9204 - accuracy: 0.4847 - val_loss: 29.2364 - val_accuracy: 0.4333\n",
      "Epoch 8/40\n",
      "23/23 [==============================] - 0s 4ms/step - loss: 17.4887 - accuracy: 0.4444 - val_loss: 24.6924 - val_accuracy: 0.5111\n",
      "Epoch 9/40\n",
      "23/23 [==============================] - 0s 3ms/step - loss: 20.5743 - accuracy: 0.4792 - val_loss: 23.2983 - val_accuracy: 0.4389\n",
      "Epoch 10/40\n",
      "23/23 [==============================] - 0s 3ms/step - loss: 18.8420 - accuracy: 0.4764 - val_loss: 20.8455 - val_accuracy: 0.5222\n",
      "Epoch 11/40\n",
      "23/23 [==============================] - 0s 3ms/step - loss: 15.4904 - accuracy: 0.4639 - val_loss: 22.8353 - val_accuracy: 0.4389\n",
      "Epoch 12/40\n",
      "23/23 [==============================] - 0s 3ms/step - loss: 15.4316 - accuracy: 0.4667 - val_loss: 25.6551 - val_accuracy: 0.4500\n",
      "Epoch 13/40\n",
      "23/23 [==============================] - 0s 3ms/step - loss: 16.1959 - accuracy: 0.4819 - val_loss: 25.8048 - val_accuracy: 0.5222\n",
      "Epoch 14/40\n",
      "23/23 [==============================] - 0s 3ms/step - loss: 20.9716 - accuracy: 0.4722 - val_loss: 24.3556 - val_accuracy: 0.5333\n",
      "Epoch 15/40\n",
      "23/23 [==============================] - 0s 3ms/step - loss: 15.9518 - accuracy: 0.4653 - val_loss: 26.3228 - val_accuracy: 0.5222\n",
      "Epoch 16/40\n",
      "23/23 [==============================] - 0s 3ms/step - loss: 16.0796 - accuracy: 0.4681 - val_loss: 26.8706 - val_accuracy: 0.4611\n",
      "Epoch 17/40\n",
      "23/23 [==============================] - 0s 3ms/step - loss: 16.8175 - accuracy: 0.4972 - val_loss: 27.5652 - val_accuracy: 0.5222\n",
      "Epoch 18/40\n",
      "23/23 [==============================] - 0s 3ms/step - loss: 20.7754 - accuracy: 0.4667 - val_loss: 19.5481 - val_accuracy: 0.5333\n",
      "Epoch 19/40\n",
      "23/23 [==============================] - 0s 3ms/step - loss: 13.0980 - accuracy: 0.4889 - val_loss: 23.6888 - val_accuracy: 0.5333\n",
      "Epoch 20/40\n",
      "23/23 [==============================] - 0s 3ms/step - loss: 18.0528 - accuracy: 0.4986 - val_loss: 22.3126 - val_accuracy: 0.5111\n",
      "Epoch 21/40\n",
      "23/23 [==============================] - 0s 3ms/step - loss: 17.2817 - accuracy: 0.4736 - val_loss: 23.5957 - val_accuracy: 0.5333\n",
      "Epoch 22/40\n",
      "23/23 [==============================] - 0s 3ms/step - loss: 23.1526 - accuracy: 0.4861 - val_loss: 35.8710 - val_accuracy: 0.5222\n",
      "Epoch 23/40\n",
      "23/23 [==============================] - 0s 3ms/step - loss: 19.2987 - accuracy: 0.4917 - val_loss: 18.9704 - val_accuracy: 0.5333\n",
      "Epoch 24/40\n",
      "23/23 [==============================] - 0s 3ms/step - loss: 12.4792 - accuracy: 0.4875 - val_loss: 16.5566 - val_accuracy: 0.5056\n",
      "Epoch 25/40\n",
      "23/23 [==============================] - 0s 3ms/step - loss: 12.5811 - accuracy: 0.4722 - val_loss: 15.9904 - val_accuracy: 0.5333\n",
      "Epoch 26/40\n",
      "23/23 [==============================] - 0s 3ms/step - loss: 11.0632 - accuracy: 0.4903 - val_loss: 18.8083 - val_accuracy: 0.5000\n",
      "Epoch 27/40\n",
      "23/23 [==============================] - 0s 3ms/step - loss: 12.6060 - accuracy: 0.4958 - val_loss: 22.3159 - val_accuracy: 0.5333\n",
      "Epoch 28/40\n",
      "23/23 [==============================] - 0s 4ms/step - loss: 16.0674 - accuracy: 0.4889 - val_loss: 17.0363 - val_accuracy: 0.5278\n",
      "Epoch 29/40\n",
      "23/23 [==============================] - 0s 4ms/step - loss: 10.3121 - accuracy: 0.4903 - val_loss: 17.1930 - val_accuracy: 0.5333\n",
      "Epoch 30/40\n",
      "23/23 [==============================] - 0s 3ms/step - loss: 14.1366 - accuracy: 0.4792 - val_loss: 20.0413 - val_accuracy: 0.5333\n",
      "Epoch 31/40\n",
      "23/23 [==============================] - 0s 4ms/step - loss: 12.2785 - accuracy: 0.5000 - val_loss: 19.4581 - val_accuracy: 0.5500\n",
      "Epoch 32/40\n",
      "23/23 [==============================] - 0s 3ms/step - loss: 11.5987 - accuracy: 0.4972 - val_loss: 10.1360 - val_accuracy: 0.5889\n",
      "Epoch 33/40\n",
      "23/23 [==============================] - 0s 3ms/step - loss: 8.6507 - accuracy: 0.5764 - val_loss: 20.1947 - val_accuracy: 0.4944\n",
      "Epoch 34/40\n",
      "23/23 [==============================] - 0s 6ms/step - loss: 13.3920 - accuracy: 0.5931 - val_loss: 33.2234 - val_accuracy: 0.5389\n",
      "Epoch 35/40\n",
      "23/23 [==============================] - 0s 6ms/step - loss: 14.8822 - accuracy: 0.5556 - val_loss: 9.0386 - val_accuracy: 0.6278\n",
      "Epoch 36/40\n",
      "23/23 [==============================] - 0s 7ms/step - loss: 18.4135 - accuracy: 0.5278 - val_loss: 16.9565 - val_accuracy: 0.5389\n",
      "Epoch 37/40\n",
      "23/23 [==============================] - 0s 5ms/step - loss: 7.3501 - accuracy: 0.5806 - val_loss: 10.5300 - val_accuracy: 0.5333\n",
      "Epoch 38/40\n",
      "23/23 [==============================] - 0s 5ms/step - loss: 9.0083 - accuracy: 0.5694 - val_loss: 12.5449 - val_accuracy: 0.5333\n",
      "Epoch 39/40\n",
      "23/23 [==============================] - 0s 5ms/step - loss: 11.6878 - accuracy: 0.5583 - val_loss: 16.2260 - val_accuracy: 0.5389\n",
      "Epoch 40/40\n",
      "23/23 [==============================] - 0s 5ms/step - loss: 10.8902 - accuracy: 0.5611 - val_loss: 14.4310 - val_accuracy: 0.5389\n",
      "6/6 [==============================] - 0s 2ms/step\n"
     ]
    }
   ],
   "source": [
    "model_history=model.fit(x=X_train, y=y_train, epochs=40, batch_size=32,validation_data= (X_test,y_test))\n",
    "y_pred = model.predict(X_test)\n",
    "\n",
    "y_test_class = np.argmax(y_test,axis=1)\n",
    "y_pred_class = np.argmax(y_pred,axis=1)"
   ]
  },
  {
   "cell_type": "code",
   "execution_count": 36,
   "id": "54c839e3",
   "metadata": {},
   "outputs": [
    {
     "data": {
      "image/png": "[encoded data removed]",
      "text/plain": [
       "<Figure size 640x480 with 1 Axes>"
      ]
     },
     "metadata": {},
     "output_type": "display_data"
    }
   ],
   "source": [
    "import matplotlib.pyplot as plt\n",
    "import seaborn as sns\n",
    "\n",
    "loss =model_history.history['loss']\n",
    "val_loss =model_history.history['val_loss']\n",
    "epochs = range(1, len(loss) + 1)\n",
    "plt.plot(epochs, loss, 'y', label='Training loss')\n",
    "plt.plot(epochs, val_loss, 'r', label='Validation loss')\n",
    "plt.title('Training and validation loss')\n",
    "plt.xlabel('Epochs')\n",
    "plt.ylabel('Loss')\n",
    "plt.legend()\n",
    "plt.show()"
   ]
  },
  {
   "cell_type": "code",
   "execution_count": 37,
   "id": "6993ae61",
   "metadata": {
    "scrolled": true
   },
   "outputs": [
    {
     "data": {
      "image/png": "[encoded data removed]",
      "text/plain": [
       "<Figure size 640x480 with 1 Axes>"
      ]
     },
     "metadata": {},
     "output_type": "display_data"
    }
   ],
   "source": [
    "acc =model_history.history['accuracy']\n",
    "val_acc =model_history.history['val_accuracy']\n",
    "plt.plot(epochs, acc, 'y', label='Training acc')\n",
    "plt.plot(epochs, val_acc, 'r', label='Validation acc')\n",
    "plt.title('Training and validation accuracy')\n",
    "plt.xlabel('Epochs')\n",
    "plt.ylabel('Accuracy')\n",
    "plt.legend()\n",
    "plt.show()"
   ]
  },
  {
   "cell_type": "code",
   "execution_count": null,
   "id": "486279fb",
   "metadata": {},
   "outputs": [],
   "source": []
  }
 ],
 "metadata": {
  "kernelspec": {
   "display_name": "AI_Kernel",
   "language": "python",
   "name": "ai"
  },
  "language_info": {
   "codemirror_mode": {
    "name": "ipython",
    "version": 3
   },
   "file_extension": ".py",
   "mimetype": "text/x-python",
   "name": "python",
   "nbconvert_exporter": "python",
   "pygments_lexer": "ipython3",
   "version": "3.11.4"
  }
 },
 "nbformat": 4,
 "nbformat_minor": 5
}
